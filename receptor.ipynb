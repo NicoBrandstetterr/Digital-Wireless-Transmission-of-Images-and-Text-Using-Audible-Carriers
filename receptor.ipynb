{
 "cells": [
  {
   "cell_type": "markdown",
   "metadata": {},
   "source": [
    "# Recibe la señal de audio"
   ]
  },
  {
   "cell_type": "code",
   "execution_count": 37,
   "metadata": {},
   "outputs": [
    {
     "name": "stdout",
     "output_type": "stream",
     "text": [
      "[array([300.]), array([1512.5]), array([1325.]), array([862.5]), array([2312.5]), array([725.]), array([262.5]), array([1975.]), array([2225.]), array([2412.5]), array([475.]), array([400.]), array([850.]), array([1862.5]), array([937.5]), array([675.]), array([587.5]), array([1537.5]), array([1575.]), array([637.5]), array([212.5]), array([1550.]), array([1087.5]), array([337.5]), array([1675.]), array([912.5]), array([1562.5]), array([1012.5]), array([1875.]), array([2562.5]), array([2425.]), array([1237.5]), array([2737.5]), array([2075.]), array([2275.]), array([787.5]), array([2512.5]), array([1012.5]), array([1150.]), array([1725.]), array([575.]), array([1025.]), array([2150.]), array([975.]), array([512.5]), array([237.5]), array([1575.]), array([787.5]), array([2250.]), array([1575.]), array([337.5]), array([287.5]), array([1375.]), array([2025.]), array([2762.5]), array([2762.5]), array([2775.]), array([2762.5]), array([2762.5]), array([2762.5]), array([2762.5]), array([2125.]), array([0.00000e+00, 1.25000e+01, 2.50000e+01, ..., 2.20125e+04,\n",
      "       2.20250e+04, 2.20375e+04])]\n"
     ]
    }
   ],
   "source": [
    "# Hay 2 formas de recibir la señal, por input o bien abriendo un archivo de sonido\n",
    "\n",
    "#Desde un sonido, analizar fft \n",
    "import scipy.io.wavfile as waves\n",
    "import numpy as np\n",
    "import matplotlib.pyplot as plt\n",
    "import scipy.fft as fourier\n",
    "\n",
    "filename='audioText.wav'\n",
    "\n",
    "Fs,data=waves.read(filename)\n",
    "Audio_m=data[:,0]\n",
    "\n",
    "\n",
    "def generacionfrec_ventanas(audio,ts):\n",
    "    #Inicia filtro (se debe usar sincronización)\n",
    "    #Quitar los primeros elementos que poseen ceros del arreglo\n",
    "    aux=audio\n",
    "    while aux[0]<2:\n",
    "        aux=aux[1:]\n",
    "    tamaño_ventana=int(44100*ts)\n",
    "    frecuencias=[]\n",
    "    \n",
    "    while len(aux)>tamaño_ventana:\n",
    "        #Obtener el FFT de la primera ventana tomando los primeros 44100*0.08 elementos\n",
    "        ventana=aux[0:tamaño_ventana]\n",
    "        L=len(ventana)\n",
    "        #Fourier\n",
    "        gk=fourier.fft(ventana)\n",
    "        M_gk=abs(gk)\n",
    "        M_gk=M_gk[0:L//2]\n",
    "        F=(Fs/L)*np.arange(0,L//2)\n",
    "\n",
    "        #obtener el maximo de M_gk y buscar su pareja en el eje x\n",
    "        max=np.max(M_gk)\n",
    "        frecuencias.append(F[np.where(M_gk==max)])\n",
    "        aux=aux[tamaño_ventana:]\n",
    "    print(frecuencias)\n",
    "\n",
    "generacionfrec_ventanas(Audio_m,0.08)\n",
    "\n",
    "# #fig,ax=plt.subplots()\n",
    "# plt.figure(figsize=(20,10))\n",
    "# plt.plot(n,primeraventana)\n",
    "# plt.xlabel('Tiempo(s)')\n",
    "# plt.ylabel('Audio')\n",
    "# plt.show()\n",
    "# #fig,bx=plt.subplots()\n",
    "# plt.figure(figsize=(20,10))\n",
    "# plt.plot(F,M_gk)\n",
    "# plt.xlabel('Frecuencia(Hz)', fontsize='14')\n",
    "# plt.ylabel('Amplitud FFT', fontsize='14')\n",
    "# plt.xlim(0,2000)\n",
    "# plt.show()\n"
   ]
  },
  {
   "cell_type": "code",
   "execution_count": 24,
   "metadata": {},
   "outputs": [
    {
     "name": "stdout",
     "output_type": "stream",
     "text": [
      "[91068.           -0.j         90588.40092375-1046.6677106j\n",
      " 86576.18904177-3579.28670012j ... 87990.62151344+8014.35921235j\n",
      " 86576.18904177+3579.28670012j 90588.40092375+1046.6677106j ]\n"
     ]
    }
   ],
   "source": []
  }
 ],
 "metadata": {
  "kernelspec": {
   "display_name": "Python 3.8.3 ('base')",
   "language": "python",
   "name": "python3"
  },
  "language_info": {
   "codemirror_mode": {
    "name": "ipython",
    "version": 3
   },
   "file_extension": ".py",
   "mimetype": "text/x-python",
   "name": "python",
   "nbconvert_exporter": "python",
   "pygments_lexer": "ipython3",
   "version": "3.8.3"
  },
  "orig_nbformat": 4,
  "vscode": {
   "interpreter": {
    "hash": "e654902f1877883cfc0f8194d1615c44937abe63f3bb0e0105192e55863f0170"
   }
  }
 },
 "nbformat": 4,
 "nbformat_minor": 2
}
